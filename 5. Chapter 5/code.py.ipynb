{
 "cells": [
  {
   "cell_type": "code",
   "execution_count": null,
   "metadata": {},
   "outputs": [],
   "source": [
    "myDict = {\n",
    "    \"Fast\": \"In a Quick Manner\",\n",
    "    \"Harry\": \"A Coder\",\n",
    "    \"Marks\": [1, 2, 5],\n",
    "    \"anotherdict\": {'harry': 'Player'}\n",
    "}\n",
    "\n",
    "print(myDict['Fast'])\n",
    "print(myDict['Harry'])\n",
    "myDict['Marks'] = [45, 78]\n",
    "print(myDict['Marks'])\n",
    "print(myDict['anotherdict']['harry'])\n",
    "len(myDict)"
   ]
  },
  {
   "cell_type": "code",
   "execution_count": null,
   "metadata": {},
   "outputs": [],
   "source": [
    "myDict = {\n",
    "    \"fast\": \"In a Quick Manner\",\n",
    "    \"harry\": \"A Coder\",\n",
    "    \"marks\": [1, 2, 5],\n",
    "    \"anotherdict\": {'harry': 'Player'},\n",
    "    1: 2\n",
    "}\n",
    "\n",
    "#Dictionary Methods\n",
    "print(list(myDict.keys()))# Prints the keys of the dictionary\n",
    "# print(myDict.values()) # Prints the keys of the dictionary \n",
    "# print(myDict.items()) # Prints the (key, value) for all contents of the dictionary \n",
    "# print(myDict)\n",
    "# updateDict = {\n",
    "#     \"Lovish\": \"Friend\",\n",
    "#     \"Divya\": \"Friend\",\n",
    "#     \"Shubham\": \"Friend\",\n",
    "#     \"harry\": \"A Dancer\"\n",
    "# }\n",
    "# myDict.update(updateDict) # Updates the dictionary by adding key-value pairs from updateDict\n",
    "# print(myDict)\n",
    "\n",
    "# print(myDict.get(\"harry\")) # Prints value associated with key \"harry\"\n",
    "# print(myDict[\"harry\"]) # Prints value associated with key \"harry\"\n",
    "\n",
    "# # The difference between .get and [] sytax in Dictionaries?\n",
    "# print(myDict.get(\"harry2\")) # Returns None as harry2 is not present in the dictionary\n",
    "# # print(myDict[\"harry2\"]) # throws an error as harry2 is not present in the dictionary"
   ]
  },
  {
   "cell_type": "code",
   "execution_count": null,
   "metadata": {},
   "outputs": [],
   "source": [
    "# Important: This syntax will create an empty dictionary and not an empty set\n",
    "a = {1,2,3,4,5,6}\n",
    "print(type(a))\n",
    "\n",
    "# An empty set can be created using the below syntax:\n",
    "b = set()\n",
    "print(type(b))\n"
   ]
  },
  {
   "cell_type": "code",
   "execution_count": null,
   "metadata": {},
   "outputs": [],
   "source": [
    "# Creating an empty set\n",
    "b = set()\n",
    "print(type(b))\n",
    "\n",
    "## Adding values to an empty set\n",
    "b.add(4)\n",
    "b.add(4)\n",
    "b.add(5)\n",
    "b.add(5) # Adding a value repeatedly does not changes a set\n",
    "b.add((4, 5, 6))\n",
    "\n",
    "## Accessing Elements\n",
    "# b.add({4:5}) # Cannot add list or dictionary to sets\n",
    "print(b)\n",
    "\n",
    "## Length of the Set\n",
    "print(len(b)) # Prints the length of this set\n",
    "\n",
    "## Removal of an Item\n",
    "b.remove(5) # Removes 5 fromt set b\n",
    "# b.remove(15) # throws an error while trying to remove 15 (which is not present in the set)\n",
    "print(b)\n",
    "\n",
    "print(b.pop())\n",
    "print(b)"
   ]
  },
  {
   "cell_type": "code",
   "execution_count": null,
   "metadata": {},
   "outputs": [],
   "source": [
    "a = 8\n",
    "\n",
    "# 1. if-elif-else ladder in Python\n",
    "if(a<3): \n",
    "    print(\"The value of a is greater than 3\")\n",
    "elif(a>13):\n",
    "    print(\"The value of a is greater than 13\")\n",
    "elif(a>7):\n",
    "    print(\"The value of a is greater than 7\")\n",
    "elif(a>17):\n",
    "    print(\"The value of a is greater than 17\")\n",
    "else:\n",
    "    print(\"The value is not greater than 3 or 7\")\n",
    "\n",
    "# 2. Multiple if statements\n",
    "if(a<3): \n",
    "    print(\"The value of a is greater than 3\")\n",
    "\n",
    "if(a>13):\n",
    "    print(\"The value of a is greater than 13\")\n",
    "    \n",
    "if(a>7):\n",
    "    print(\"The value of a is greater than 7\")\n",
    "\n",
    "if(a>17):\n",
    "    print(\"The value of a is greater than 17\")\n",
    "else:\n",
    "    print(\"The value is not greater than 3 or 7\")\n",
    "\n",
    "print(\"Done\")"
   ]
  },
  {
   "cell_type": "code",
   "execution_count": null,
   "metadata": {},
   "outputs": [],
   "source": [
    "Write a program that examines three variables— x , y , and z —and\n",
    "prints the largest odd number among them. If none of them are odd, it should\n",
    "print a message to that effect."
   ]
  },
  {
   "cell_type": "code",
   "execution_count": 15,
   "metadata": {},
   "outputs": [],
   "source": [
    "def odd_num(x,y,z):\n",
    "    if x%2==1:\n",
    "        if x>y and x>z:\n",
    "            return x\n",
    "    elif y%2==1:\n",
    "        if y>x and y>z:    \n",
    "            return y\n",
    "    elif z%2==1:\n",
    "        if z>x and z>y:\n",
    "            return z\n",
    "    else:\n",
    "        print(\"none\")\n",
    "            "
   ]
  },
  {
   "cell_type": "code",
   "execution_count": 16,
   "metadata": {},
   "outputs": [],
   "source": [
    "odd_num(1,5,4)"
   ]
  },
  {
   "cell_type": "markdown",
   "metadata": {},
   "source": [
    "# "
   ]
  }
 ],
 "metadata": {
  "kernelspec": {
   "display_name": "Python 3",
   "language": "python",
   "name": "python3"
  },
  "language_info": {
   "codemirror_mode": {
    "name": "ipython",
    "version": 3
   },
   "file_extension": ".py",
   "mimetype": "text/x-python",
   "name": "python",
   "nbconvert_exporter": "python",
   "pygments_lexer": "ipython3",
   "version": "3.8.3"
  }
 },
 "nbformat": 4,
 "nbformat_minor": 4
}
